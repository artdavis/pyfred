{
 "cells": [
  {
   "cell_type": "markdown",
   "metadata": {},
   "source": [
    "# Run from Jupyter Notebook\n",
    "\n",
    "A Jupyter Notebook (such as this one) may be used to interact with the\n",
    "FRED kernel providing a very handy interactive graphical notebook/documentation\n",
    "environment.\n",
    "\n",
    "Jupyter Notebook may have already been installed along with your python dsitribution.\n",
    "For more information on installation, see here:\n",
    "http://jupyter.readthedocs.io/en/latest/install.html\n",
    "\n",
    "Change into the directory where you want the notebook to have file\n",
    "access and start with:\n",
    "```bash\n",
    "$ jupyter notebook\n",
    "```\n",
    "Alternatively launch your\n",
    "notebook as usual and make sure your project is accesible below\n",
    "your top level notebook path.\n",
    "\n",
    "Running `%qtconsole` from a notebook\n",
    "cell will pop-up an IPython GUI terminal with access to the notebook kernel.\n",
    "\n",
    "Run the following cells individually in order (use SHIFT-ENTER on a highlighted cell\n",
    "to run it). Read through the accompanying documentation as well.\n",
    "If you find your working environment getting \"out of control\", close out\n",
    "FRED (and your qtconsole) and click the \"Kernel\" menu up top and then \"Restart\".\n",
    "To pick up where you left off, navigate to and click \"Cell :: Run All Above\"."
   ]
  },
  {
   "cell_type": "code",
   "execution_count": 1,
   "metadata": {
    "collapsed": true
   },
   "outputs": [],
   "source": [
    "# To get remote console connection info use:\n",
    "#%connect_info\n",
    "# To open a GUI console:\n",
    "%qtconsole\n",
    "# Embed plots in the notebook\n",
    "%matplotlib inline\n",
    "\n",
    "# NumPy is nice to have around\n",
    "import numpy as np\n",
    "np.set_printoptions(precision=4) # 4 decimal places for printing is OK\n",
    "\n",
    "import time # For time delay\n",
    "# Get IPython's pretty printer\n",
    "from IPython.lib.pretty import pprint\n",
    "# Typeset arbitrary latex math with display(Math('y=x^2')) where y=x^2 is any LaTeX math\n",
    "from IPython.display import display, Math, Latex, HTML, SVG"
   ]
  },
  {
   "cell_type": "code",
   "execution_count": 2,
   "metadata": {
    "collapsed": true
   },
   "outputs": [],
   "source": [
    "# Make a convenience function for printing out instance attributes\n",
    "# This is of minimal value in any actual application but I use\n",
    "# it here in the demo as a means of information display\n",
    "def probj(obj):\n",
    "    attrs = [x for x in dir(obj) if not x.startswith('_')]\n",
    "    outstr = ''\n",
    "    for i in attrs:\n",
    "        if 60 < len(outstr):\n",
    "            print(outstr)\n",
    "            outstr = ''\n",
    "        outstr += \"{:<16s}\".format(i)\n",
    "    print(outstr)"
   ]
  },
  {
   "cell_type": "markdown",
   "metadata": {},
   "source": [
    "## Introduction\n",
    "### Core Modules\n",
    "Run the following cell to import pyfred into your namespace:"
   ]
  },
  {
   "cell_type": "code",
   "execution_count": 3,
   "metadata": {
    "collapsed": true
   },
   "outputs": [],
   "source": [
    "# Imports for getting started with pyfred\n",
    "from pyfred import core as pyfred\n",
    "from pyfred import apicmds"
   ]
  },
  {
   "cell_type": "markdown",
   "metadata": {},
   "source": [
    "In the IPython shell (qtconsole), the help facilty is very nice.\n",
    "For instance, to see all of the available attributes/methods of pyfred\n",
    "you could type:\n",
    "```ipython\n",
    "In [1]: pyfred.<TAB>\n",
    "```\n",
    "and get a list of available methods:"
   ]
  },
  {
   "cell_type": "code",
   "execution_count": 4,
   "metadata": {},
   "outputs": [
    {
     "name": "stdout",
     "output_type": "stream",
     "text": [
      "CWD             Camera          ComLib          DocBase         \n",
      "DocCollection   DocInit         DocProperties   Entities        \n",
      "FunctGetter     MODNAME         SCRIPTPATH      ScriptLib       \n",
      "api             math            np              os              \n",
      "u               w32             \n"
     ]
    }
   ],
   "source": [
    "probj(pyfred) # Emulate IPython output"
   ]
  },
  {
   "cell_type": "markdown",
   "metadata": {},
   "source": [
    "Use TAB completion to expand .DocInit\n",
    "```ipython\n",
    "In [1]: pyfred.DocI<TAB>\n",
    "```\n",
    "Get the available help documentation by typing a '?' and hitting ENTER\n",
    "```ipython\n",
    "In [1]: pyfred.DocInit?\n",
    "```\n",
    "\n",
    "The help facility also works in the Jupyter Notebook.\n",
    "Try running the following cell:"
   ]
  },
  {
   "cell_type": "code",
   "execution_count": 5,
   "metadata": {
    "collapsed": true
   },
   "outputs": [],
   "source": [
    "pyfred.DocInit?"
   ]
  },
  {
   "cell_type": "markdown",
   "metadata": {},
   "source": [
    "Click the 'x' in the top right corner of the help window to hide it.\n",
    "\n",
    "Now use `.DocInit` to launch FRED by running the next cell:"
   ]
  },
  {
   "cell_type": "code",
   "execution_count": 6,
   "metadata": {
    "collapsed": true
   },
   "outputs": [],
   "source": [
    "FDOC = pyfred.DocInit('testdoc')"
   ]
  },
  {
   "cell_type": "markdown",
   "metadata": {},
   "source": [
    "FRED should launch and open a new document named `testdoc`.\n",
    "Our `FDOC` variable is now an object we can use to interact\n",
    "with the FRED document. Check out the available methods from\n",
    "the IPython console:\n",
    "```ipython\n",
    "In [1]: FDOC.<TAB>\n",
    "```"
   ]
  },
  {
   "cell_type": "code",
   "execution_count": 7,
   "metadata": {},
   "outputs": [
    {
     "name": "stdout",
     "output_type": "stream",
     "text": [
      "app             comment         coprint         dobj            \n",
      "entities        oprint          struct          units           \n"
     ]
    }
   ],
   "source": [
    "probj(FDOC) # Emulate IPython output"
   ]
  },
  {
   "cell_type": "markdown",
   "metadata": {},
   "source": [
    "The `.dobj` attribute provides access to the raw COM interface and it's handy to keep that\n",
    "around in a global variable:"
   ]
  },
  {
   "cell_type": "code",
   "execution_count": 8,
   "metadata": {
    "collapsed": true
   },
   "outputs": [],
   "source": [
    "DOBJ = FDOC.dobj # Provides raw access to the COM interface"
   ]
  },
  {
   "cell_type": "markdown",
   "metadata": {},
   "source": [
    "It's not advised to try TAB completion on `DOBJ.` as IPython will dutifully\n",
    "suggest *all* of FRED's available commands. If you do this and then get lost in\n",
    "a sea of suggested commands, just hit ESC or `q` to back out.\n",
    "\n",
    "Completion on DOBJ can still be quite handy for searching out a command you want. For\n",
    "instance, you could get all of the `Init` commands using:\n",
    "```ipython\n",
    "In [1]: DOBJ.Init<TAB>\n",
    "```\n",
    "\n",
    "You might see the command you want is `InitEntity` so you just add an `E` and hit TAB again:\n",
    "```ipython\n",
    "In [1]: DOBJ.InitE<TAB>\n",
    "```\n",
    "\n",
    "IPython fills out `DOBJ.InitEntity` and suggests:\n",
    "```\n",
    "DOBJ.InitEntity  DOBJ.InitEntityArray\n",
    "```\n",
    "\n",
    "Or, maybe you don't remember the command you want start with, but you\n",
    "know a string that it contains. Say for instance `Qbfs`. Try this:\n",
    "```ipython\n",
    "In [1]: DOBJ.*Qbfs*?\n",
    "```\n",
    "\n",
    "And you'll get back all the commands with substrings that match:\n",
    "```\n",
    "DOBJ.AddQbfsSurf\n",
    "DOBJ.GetQbfsSurf\n",
    "DOBJ.GetQbfsSurfCoefCount\n",
    "DOBJ.GetQbfsSurfIthCoef\n",
    "DOBJ.SetQbfsSurf\n",
    "DOBJ.SetQbfsSurfIthCoef\n",
    "```\n",
    "\n",
    "Help documentation is not available on raw COM objects. That is accomplished\n",
    "with the pyfred API wrapper which we'll introduce next.\n",
    "\n",
    "### Python wrapper\n",
    "Controlling FRED through the COM iterface has some issues. Many things work,\n",
    "some things do not and behavior can be inconsistent. pyfred adresses these issues\n",
    "with the `apicmds` module. This module is built directly from the HTML documentation\n",
    "written by Photon Engineering for FRED. This module will not exist until you\n",
    "have completed running the install scripts included with pyfred. These \"wrapped\"\n",
    "commands provide pythonic access to FRED consistent with their documented\n",
    "implentation and avoid the quirks of the COM interface. Additionally this provides\n",
    "inline access to FRED's documentation for these commands. \n",
    "\n",
    "In some cases where the documentation is not consistent with the command\n",
    "implementation, the wrapped command will fail. However, broken commands may\n",
    "be fixed using the `api_overrides.yaml`.\n",
    "If you find a broken command that requires an override please\n",
    "let me know so I can merge it into the mainline distribution of pyfred.\n",
    "\n",
    "Also if the wrapped command is not functional, it may work just fine\n",
    "through the raw COM interface. Some times it may be better to\n",
    "use the raw COM interface for performance reasons anyway. Qualitatively\n",
    "I have found better performance when using raw COM commands vs. the\n",
    "python wrapped API.\n",
    "\n",
    "Instantiate the python wrapped API by wrapping the raw document object:"
   ]
  },
  {
   "cell_type": "code",
   "execution_count": 9,
   "metadata": {
    "collapsed": true
   },
   "outputs": [],
   "source": [
    "# The python wrapped version of FRED's API will be available in 'api':\n",
    "api = apicmds.Wrap(DOBJ)"
   ]
  },
  {
   "cell_type": "markdown",
   "metadata": {},
   "source": [
    "Again TAB completion works as before and it is not suggested to attempt\n",
    "completion using `api.<TAB>` since you'll get the whole library of available commands back.\n",
    "\n",
    "Now we do have access to full command documentation at our fingertips!\n",
    "```ipython\n",
    "In [1]: api.GetEntity?\n",
    "```"
   ]
  },
  {
   "cell_type": "code",
   "execution_count": 10,
   "metadata": {},
   "outputs": [
    {
     "name": "stdout",
     "output_type": "stream",
     "text": [
      "Help on method GetEntity in module pyfred.apicmds:\n",
      "\n",
      "GetEntity(n, entity) method of pyfred.apicmds.Wrap instance\n",
      "    Python API documentation:\n",
      "    =========================\n",
      "    Wrapper for FRED GetEntity SUBROUTINE.\n",
      "    Requires all parameters to be set when invoked.\n",
      "    \n",
      "    Retrieves the generic entity data for a specified FRED\n",
      "    entity.\n",
      "    \n",
      "    Parameters\n",
      "    ----------\n",
      "    n: <class 'int'>\n",
      "    entity: <com_record 'T_ENTITY'>\n",
      "    \n",
      "    Returns\n",
      "    -------\n",
      "    [n: <class 'int'>, entity: <com_record 'T_ENTITY'>]\n",
      "    \n",
      "    FRED documentation:\n",
      "    ===================\n",
      "    \n",
      "    Description:\n",
      "    ------------\n",
      "       Retrieves the generic entity data for a specified\n",
      "    FRED entity.\n",
      "    \n",
      "    Examples:\n",
      "    ---------\n",
      "       Entity Info Functions\n",
      "    \n",
      "    Parameters:\n",
      "    -----------\n",
      "       n As Long \n",
      "         Node number of the FRED entity. \n",
      "       entity As T_ENTITY \n",
      "         The generic entity data for the specified\n",
      "    FRED entity.\n",
      "    \n",
      "    Remarks:\n",
      "    --------\n",
      "       This subroutine retrieves the generic entity\n",
      "    data for a specified FRED entity.  If there is a problem,\n",
      "    the subroutine sets an error and returns without modifying\n",
      "    entity.\n",
      "    \n",
      "    See Also:\n",
      "    ---------\n",
      "       T_ENTITY, FindFullName, InitEntity, SetEntity\n",
      "    \n",
      "    Syntax:\n",
      "    -------\n",
      "       GetEntity n, entity\n",
      "\n"
     ]
    }
   ],
   "source": [
    "help(api.GetEntity)"
   ]
  },
  {
   "cell_type": "markdown",
   "metadata": {},
   "source": [
    "### COM vs pyfred API example\n",
    "Get functions that return FRED data structures (such as GetEntity) do not\n",
    "work through the raw COM interface. Also functions that\n",
    "don't take any arguments cause problems.\n",
    "\n",
    "Take for example the FRED `GetEntity()` subroutine:"
   ]
  },
  {
   "cell_type": "code",
   "execution_count": 11,
   "metadata": {},
   "outputs": [
    {
     "name": "stdout",
     "output_type": "stream",
     "text": [
      "If the raw GetEntity() had worked, we would've gotten:\n",
      "  name:'Geometry'\n",
      "Instead we got:\n",
      "  name:''\n"
     ]
    }
   ],
   "source": [
    "# Raw GetEntity() does not work through the w32 API\n",
    "geom_w32 = DOBJ.GetEntity(2, FDOC.struct('T_ENTITY'))\n",
    "\n",
    "try:\n",
    "    assert('Geometry' == geom_w32.name)\n",
    "except AssertionError:\n",
    "    print(\"If the raw GetEntity() had worked, we would've gotten:\\n\"\n",
    "          \"  name:'{}'\\nInstead we got:\\n  name:'{}'\".\n",
    "         format('Geometry', geom_w32.name))\n",
    "else:\n",
    "    print(\"w32 raw function worked properly!!\")"
   ]
  },
  {
   "cell_type": "code",
   "execution_count": 12,
   "metadata": {},
   "outputs": [
    {
     "name": "stdout",
     "output_type": "stream",
     "text": [
      "Expecting name:'Geometry'\n",
      "And we got name:'Geometry'\n"
     ]
    }
   ],
   "source": [
    "# Using api.GetEntity however works as expected:\n",
    "geom_id, geom_api = api.GetEntity(2, FDOC.struct('T_ENTITY'))\n",
    "# We get out a tuple of: (<ID>, <DATASTRUCT>) as per\n",
    "# the GetEntity() documentation\n",
    "try:\n",
    "    assert('Geometry' == geom_api.name)\n",
    "except AssertionError:\n",
    "    print(\"Expecting name:'{}'\\nInstead we got:\\n  name:'{}'\".\n",
    "         format('Geometry', geom_api.name))\n",
    "else:\n",
    "    print(\"Expecting name:'{}'\\nAnd we got name:'{}'\".\n",
    "         format('Geometry', geom_api.name))\n"
   ]
  },
  {
   "cell_type": "markdown",
   "metadata": {},
   "source": [
    "## Usage\n",
    "\n",
    "Here's a simple example of looping over the active FRED document entities:"
   ]
  },
  {
   "cell_type": "code",
   "execution_count": 13,
   "metadata": {
    "scrolled": true
   },
   "outputs": [
    {
     "name": "stdout",
     "output_type": "stream",
     "text": [
      "Entity 0: System\n",
      "Entity 1: Optical Sources\n",
      "Entity 2: Geometry\n",
      "Entity 3: Analysis Surface(s)\n",
      "\n"
     ]
    }
   ],
   "source": [
    "outstr = ''\n",
    "for i in range(DOBJ.GetEntityCount()):\n",
    "    outstr += \"Entity {}: {}\\n\".format(i, DOBJ.GetFullName(i))\n",
    "print(outstr)"
   ]
  },
  {
   "cell_type": "markdown",
   "metadata": {},
   "source": [
    "### Printing to the output window\n",
    "\n",
    "An occasional inconvenience with controlling FRED from an external application is\n",
    "that access to FRED's output window is lost. `FDOC.oprint` will send string output\n",
    "to FRED's console and `FDOC.coprint` sends output to FRED and the local\n",
    "python standard output:"
   ]
  },
  {
   "cell_type": "code",
   "execution_count": 14,
   "metadata": {},
   "outputs": [
    {
     "name": "stdout",
     "output_type": "stream",
     "text": [
      "Output from FDOC.coprint():\n",
      "Entity 0: System\n",
      "Entity 1: Optical Sources\n",
      "Entity 2: Geometry\n",
      "Entity 3: Analysis Surface(s)\n",
      "\n"
     ]
    }
   ],
   "source": [
    "# We can send output to the FRED output window.\n",
    "# Beware linefeed/carriage returns do not advance the cell row.\n",
    "# All of the output goes into the next cell including lf/cr's.\n",
    "# It's best to call oprint per line of text:\n",
    "FDOC.oprint(\"Output from FDOC.oprint():\")\n",
    "for line in outstr.split('\\n'):\n",
    "    FDOC.oprint(line)\n",
    "\n",
    "# Also the coprint method is available to send output\n",
    "# to the FRED output window as well as the local\n",
    "# python buffer\n",
    "FDOC.coprint(\"Output from FDOC.coprint():\")\n",
    "for line in outstr.split('\\n'):\n",
    "    FDOC.coprint(line)"
   ]
  },
  {
   "cell_type": "markdown",
   "metadata": {},
   "source": [
    "### Active update/retrieval of the General File Comments\n",
    "`FDOC.comment` will also instantly set/retrieve the document comment field:"
   ]
  },
  {
   "cell_type": "code",
   "execution_count": 15,
   "metadata": {
    "collapsed": true
   },
   "outputs": [],
   "source": [
    "FDOC.comment = '''Here we have some file \n",
    "comments that might be used for documentation \n",
    "and other useful descriptive text'''"
   ]
  },
  {
   "cell_type": "markdown",
   "metadata": {
    "collapsed": true
   },
   "source": [
    "Check in the GUI: 'Edit :: General File Comments'\n",
    "If you change the General File Comments in the GUI\n",
    "it will be reflected here \"up to date\". Try changing\n",
    "the text and then run the next cell"
   ]
  },
  {
   "cell_type": "code",
   "execution_count": 16,
   "metadata": {},
   "outputs": [
    {
     "name": "stdout",
     "output_type": "stream",
     "text": [
      "Here we have some file \n",
      "comments that might be used for documentation \n",
      "and other useful descriptive text\r\n",
      "... some comments added from the GUI.\n"
     ]
    }
   ],
   "source": [
    "# After modifying the File Comments: Edit -> General File Comments\n",
    "# Run this cell and the changes in the GUI are reflected here\n",
    "print(FDOC.comment)"
   ]
  },
  {
   "cell_type": "markdown",
   "metadata": {},
   "source": [
    "### Active update/retrieval of the Document Units\n",
    "\n",
    "Document units are also available. Use `FDOC.units`:"
   ]
  },
  {
   "cell_type": "code",
   "execution_count": 17,
   "metadata": {},
   "outputs": [
    {
     "name": "stdout",
     "output_type": "stream",
     "text": [
      "Current units are: mm\n",
      "We can change the document units: nm\n"
     ]
    }
   ],
   "source": [
    "print(\"Current units are: {}\".format(FDOC.units))\n",
    "FDOC.units='nm'\n",
    "print(\"We can change the document units: {}\".format(FDOC.units))"
   ]
  },
  {
   "cell_type": "markdown",
   "metadata": {},
   "source": [
    "In the GUI, check that the SysUnit value has changed in the\n",
    "bottow right of the workspace window. Also it is updated in\n",
    "'Tools :: Units & Scaling'.\n",
    "\n",
    "Change the value in 'Tools :: Units & Scaling' back to\n",
    "'mm' and run the next cell. Changes in the GUI are updated here."
   ]
  },
  {
   "cell_type": "code",
   "execution_count": 18,
   "metadata": {},
   "outputs": [
    {
     "name": "stdout",
     "output_type": "stream",
     "text": [
      "Current units are: mm\n"
     ]
    }
   ],
   "source": [
    "print(\"Current units are: {}\".format(FDOC.units))"
   ]
  },
  {
   "cell_type": "markdown",
   "metadata": {},
   "source": [
    "### Access to the Entities"
   ]
  },
  {
   "cell_type": "markdown",
   "metadata": {},
   "source": [
    "`FDOC.entities` can be used to query the state of\n",
    "the document entities but it cannot update them:"
   ]
  },
  {
   "cell_type": "code",
   "execution_count": 19,
   "metadata": {},
   "outputs": [
    {
     "name": "stdout",
     "output_type": "stream",
     "text": [
      "FDOC.entities.count informs us there are 4 entities in the document.\n",
      "Their names and descriptions are available from the .names and .descriptions attributes:\n",
      "\tName: System (ID:0)\n",
      "\t  Description: System\n",
      "\tName: Optical Sources (ID:1)\n",
      "\t  Description: \n",
      "\tName: Geometry (ID:2)\n",
      "\t  Description: \n",
      "\tName: Analysis Surface(s) (ID:3)\n",
      "\t  Description: \n"
     ]
    }
   ],
   "source": [
    "ents = FDOC.entities # create a shortcut\n",
    "print('FDOC.entities.count informs us there are {} '\n",
    "      'entities in the document.'.format(ents.count))\n",
    "print(\"Their names and descriptions are available from the .names and .descriptions attributes:\")\n",
    "for i in range(FDOC.entities.count):\n",
    "    print(\"\\tName: {} (ID:{})\\n\\t  Description: {}\".format(ents.names[i], i, ents.descriptions[i]))"
   ]
  },
  {
   "cell_type": "markdown",
   "metadata": {},
   "source": [
    "### struct\n",
    "The `FDOC.struct` method provides access to all of the FRED datastructures\n",
    "(i.e. `T_<STRUCTNAME>`). They'll be passed to FRED by value so\n",
    "it's fine to define a few global instances and modify them as need be\n",
    "before sending them to FRED."
   ]
  },
  {
   "cell_type": "code",
   "execution_count": 20,
   "metadata": {
    "collapsed": true
   },
   "outputs": [],
   "source": [
    "# Entity data structure\n",
    "ENT = FDOC.struct('T_ENTITY')\n",
    "# Primitive operations data structure\n",
    "OP = FDOC.struct('T_OPERATION')"
   ]
  },
  {
   "cell_type": "markdown",
   "metadata": {},
   "source": [
    "Member access is accomplished using python 'dotted' notation. The following is\n",
    "a typical process for adding an element with a surface."
   ]
  },
  {
   "cell_type": "code",
   "execution_count": 21,
   "metadata": {
    "collapsed": true
   },
   "outputs": [],
   "source": [
    "# Add a custom element\n",
    "ENT.traceable = True\n",
    "ENT.name = 'Custom Element'\n",
    "elem_id, elem_ent = DOBJ.AddCustomElement(ENT)\n",
    "DOBJ.Update() # Sync the GUI with the API"
   ]
  },
  {
   "cell_type": "code",
   "execution_count": 22,
   "metadata": {},
   "outputs": [],
   "source": [
    "# Add a conic surface\n",
    "ENT.name = 'Conic Surface'\n",
    "ENT.parent = elem_id\n",
    "OP.Type = 'ShiftZ'\n",
    "OP.val1 = 1.0\n",
    "conic_id, conic_ent = DOBJ.AddConic(ENT, -0.5, 0)\n",
    "shift_op = DOBJ.AddOperation(conic_id, OP)\n",
    "DOBJ.Update()"
   ]
  },
  {
   "cell_type": "markdown",
   "metadata": {},
   "source": [
    "Hit `ALT-Z` in your FRED window to zoom fit the view.\n",
    "\n",
    "### SimplePlane\n",
    "You may encapsualte geometry creation into python libraries as you see\n",
    "fit. For example, the `geom` module demonstrates a `SimplePlane` class:"
   ]
  },
  {
   "cell_type": "code",
   "execution_count": 23,
   "metadata": {},
   "outputs": [],
   "source": [
    "from pyfred import geom\n",
    "\n",
    "# Use geom.SimplePlane to make a plane surface\n",
    "plane1 = geom.SimplePlane(FDOC, parent=elem_id, color='red')"
   ]
  },
  {
   "cell_type": "markdown",
   "metadata": {},
   "source": [
    "Now with this pythonic instance of the plane, you may dynamically update\n",
    "its properties at a high level without having to call `DOBJ.Update()`:"
   ]
  },
  {
   "cell_type": "code",
   "execution_count": 24,
   "metadata": {
    "collapsed": true
   },
   "outputs": [],
   "source": [
    "plane1.width = 4.\n",
    "plane1.height = 2.\n",
    "plane1.color = 'yellow'"
   ]
  },
  {
   "cell_type": "markdown",
   "metadata": {},
   "source": [
    "### Application objects\n",
    "`FDOC.app` provides raw access to the w32 Application object.\n",
    "Browse the available commands from the IPython shell:\n",
    "```ipython\n",
    "In [1]: FDOC.app.<TAB>\n",
    "```\n",
    "It's often handy to have it as a global variable:"
   ]
  },
  {
   "cell_type": "code",
   "execution_count": 25,
   "metadata": {},
   "outputs": [
    {
     "name": "stdout",
     "output_type": "stream",
     "text": [
      "FRED function Asin(0.5):    0.5235987755982989\n",
      "Numpy function arcsin(0.t): 0.5235987755982989\n",
      "PASS\n"
     ]
    }
   ],
   "source": [
    "APP = FDOC.app\n",
    "\n",
    "# Test out APP.Asin against numpy arcsin\n",
    "x0 = APP.Asin(0.5)\n",
    "x1 = np.arcsin(0.5)\n",
    "print(\"FRED function Asin(0.5):    {}\".format(x0))\n",
    "print(\"Numpy function arcsin(0.t): {}\".format(x1))\n",
    "assert(np.isclose(APP.Asin(0.5), np.arcsin(0.5)))\n",
    "print(\"PASS\")"
   ]
  },
  {
   "cell_type": "markdown",
   "metadata": {},
   "source": [
    "## utils module\n",
    "\n",
    "Have a look through the `pyfred\\utils.py` module for some potentially\n",
    "useful utilities:"
   ]
  },
  {
   "cell_type": "code",
   "execution_count": 26,
   "metadata": {},
   "outputs": [],
   "source": [
    "from pyfred import utils as u"
   ]
  },
  {
   "cell_type": "markdown",
   "metadata": {},
   "source": [
    "```ipython\n",
    "In [1]: u.<TAB>\n",
    "```"
   ]
  },
  {
   "cell_type": "code",
   "execution_count": 27,
   "metadata": {},
   "outputs": [
    {
     "name": "stdout",
     "output_type": "stream",
     "text": [
      "acos            acosdg          asin            asindg          \n",
      "atan            atan2           atan2dg         atandg          \n",
      "cos             cosdg           d2r             degrees         \n",
      "magnitude       math            move_x          move_y          \n",
      "move_z          negate_vect     norm            normvect        \n",
      "np              pi              r2d             radians         \n",
      "sin             sindg           sqrt            tan             \n",
      "tandg           vectangle       xy_tilt         xz_tilt         \n",
      "yz_tilt         \n"
     ]
    }
   ],
   "source": [
    "probj(u)"
   ]
  },
  {
   "cell_type": "code",
   "execution_count": 28,
   "metadata": {},
   "outputs": [
    {
     "name": "stdout",
     "output_type": "stream",
     "text": [
      "There are some trig shortcuts:\n",
      "  u.cosdg(60.0) = 0.5\n",
      "PASS\n",
      "\n",
      "... some vector operations:\n",
      "  u.magnitude((2.0, 10.0, 11.0)) = 15\n",
      "PASS\n",
      "\n",
      "... and translation convenience functions:\n",
      "  Plane1 shifted by Z=1.0\n",
      "PASS\n",
      "\n"
     ]
    }
   ],
   "source": [
    "print(\"There are some trig shortcuts:\")\n",
    "ang = 60.\n",
    "print(\"  u.cosdg({}) = {:g}\".format(ang, u.cosdg(ang)))\n",
    "assert(np.isclose(u.cosdg(ang), np.cos(np.deg2rad(ang))))\n",
    "print(\"PASS\\n\")\n",
    "\n",
    "print(\"... some vector operations:\")\n",
    "v = (2., 10., 11.)\n",
    "print(\"  u.magnitude({}) = {:g}\".format(v, u.magnitude(v)))\n",
    "assert(np.isclose(u.magnitude(v), np.sqrt(v[0]**2+v[1]**2+v[2]**2)))\n",
    "print(\"PASS\\n\")\n",
    "\n",
    "print(\"... and translation convenience functions:\")\n",
    "u.move_z(FDOC, plane1.objid, 1.0)\n",
    "print(\"  Plane1 shifted by Z={}\".format(plane1.OPS.elements[-1].val1))\n",
    "assert('ShiftZ' == plane1.OPS.elements[-1].Type)\n",
    "assert(np.isclose(1.0, plane1.OPS.elements[-1].val1))\n",
    "print(\"PASS\\n\")"
   ]
  },
  {
   "cell_type": "markdown",
   "metadata": {},
   "source": [
    "## Camera handling\n",
    "\n",
    "Initialize a Camera instance for manipulating the 3D View:"
   ]
  },
  {
   "cell_type": "code",
   "execution_count": 29,
   "metadata": {},
   "outputs": [],
   "source": [
    "cam = pyfred.Camera(FDOC)\n",
    "DOBJ.Update() # Update the document"
   ]
  },
  {
   "cell_type": "code",
   "execution_count": 30,
   "metadata": {},
   "outputs": [
    {
     "name": "stdout",
     "output_type": "stream",
     "text": [
      "The camera datastructure is:\n",
      "com_struct(xLoc=-11.523056553262094, yLoc=3.3654297275890204, zLoc=1.4254518547729207, xAim=0.0, yAim=0.0, zAim=0.5, xUp=0.2692417586861648, yUp=0.9553470644548315, zUp=-0.12174096195248998)\n",
      "\n",
      "Current camera settings:\n",
      "xLoc: -11.523056553262094\n",
      "yLoc: 3.3654297275890204\n",
      "zLoc: 1.4254518547729207\n",
      "xAim: 0.0\n",
      "yAim: 0.0\n",
      "zAim: 0.5\n",
      "xUp: 0.2692417586861648\n",
      "yUp: 0.9553470644548315\n",
      "zUp: -0.12174096195248998\n"
     ]
    }
   ],
   "source": [
    "# Underneath the Camera() instance is a \n",
    "# FRED T_CAMERA datastructure\n",
    "print(\"The camera datastructure is:\\n{}\\n\".format(repr(cam)))\n",
    "\n",
    "# The string representation of the instance\n",
    "# reports the properties nicely formatted\n",
    "print(\"Current camera settings:\\n{}\".format(cam))"
   ]
  },
  {
   "cell_type": "code",
   "execution_count": 31,
   "metadata": {},
   "outputs": [
    {
     "name": "stdout",
     "output_type": "stream",
     "text": [
      "Current camera coordinates are: (-11.523056553262094, 3.3654297275890204, 1.4254518547729207)\n",
      "New camera coordinates are: (-0.25, 0.1, 0.25)\n"
     ]
    }
   ],
   "source": [
    "# You can muck around with the camera in the GUI.\n",
    "# Then we can see the camera (x,y,z) location, set it\n",
    "# directly with a triplet and it updates immediately\n",
    "print(\"Current camera coordinates are: {}\".format(cam.location))\n",
    "cam.location=(-.25, .1, .25)\n",
    "print(\"New camera coordinates are: {}\".format(cam.location))"
   ]
  },
  {
   "cell_type": "markdown",
   "metadata": {},
   "source": [
    "Use `ALT-Z` to re-zoom as necessary."
   ]
  },
  {
   "cell_type": "code",
   "execution_count": 32,
   "metadata": {},
   "outputs": [
    {
     "name": "stdout",
     "output_type": "stream",
     "text": [
      "Current camera aims at: (0.0, 0.0, 1.0)\n",
      "New camera aim: (0.0, 0.05, 0.05)\n",
      "Camera vector: [-11.8152   4.6761 -10.8652]\n"
     ]
    }
   ],
   "source": [
    "# Same for the camera aiming\n",
    "print(\"Current camera aims at: {}\".format(cam.aim))\n",
    "cam.aim=(0., .05, .05)\n",
    "print(\"New camera aim: {}\".format(cam.aim))\n",
    "# Also the pointing vector from the aim point to the\n",
    "# camera is available\n",
    "print(\"Camera vector: {}\".format(cam.pointvect))"
   ]
  },
  {
   "cell_type": "code",
   "execution_count": 33,
   "metadata": {},
   "outputs": [
    {
     "name": "stdout",
     "output_type": "stream",
     "text": [
      "Camera distance from aim point: 16.7004\n"
     ]
    }
   ],
   "source": [
    "# .aim_origin will conveniently re-aim the camera at the origin\n",
    "cam.aim_origin\n",
    "# .dist reports the camera distance from it's aim\n",
    "print(\"Camera distance from aim point: {:0.4f}\".format(cam.dist))"
   ]
  },
  {
   "cell_type": "code",
   "execution_count": 34,
   "metadata": {},
   "outputs": [
    {
     "name": "stdout",
     "output_type": "stream",
     "text": [
      "Current camera up vector is: (0.38222399589359135, 0.9239665661340697, -0.01380585490115721)\n",
      "New camera up-vector: (0.7067332032878372, 0.28329116393115483, -0.6482856591110464)\n"
     ]
    }
   ],
   "source": [
    "# We can also retrieve/adjust the up-vector\n",
    "print(\"Current camera up vector is: {}\".format(cam.upvect))\n",
    "cam.upvect=(1, 0, 0)\n",
    "print(\"New camera up-vector: {}\".format(cam.upvect))"
   ]
  },
  {
   "cell_type": "code",
   "execution_count": 35,
   "metadata": {},
   "outputs": [
    {
     "name": "stdout",
     "output_type": "stream",
     "text": [
      "New camera up-vector: (0.20874426764168183, 0.9591222504460617, 0.19107678934402225)\n"
     ]
    }
   ],
   "source": [
    "# Since 'y is up' is so common, .view_yup is available\n",
    "cam.view_yup\n",
    "print(\"New camera up-vector: {}\".format(cam.upvect))"
   ]
  },
  {
   "cell_type": "code",
   "execution_count": 36,
   "metadata": {
    "collapsed": true
   },
   "outputs": [],
   "source": [
    "# There's additional convenience properties for standard views:\n",
    "# .view_front .view_back .view_top .view_bottom\n",
    "# .view_left .view_right\n",
    "views = ['front', 'back', 'top', 'bottom', 'left', 'right']\n",
    "for v in views:\n",
    "    time.sleep(1)\n",
    "    getattr(cam, 'view_{}'.format(v))"
   ]
  },
  {
   "cell_type": "code",
   "execution_count": 37,
   "metadata": {
    "collapsed": true
   },
   "outputs": [],
   "source": [
    "# .view_iso() will provide 8 possible isometric views\n",
    "for v in range(8):\n",
    "    time.sleep(1)\n",
    "    cam.view_iso(v + 1)"
   ]
  },
  {
   "cell_type": "code",
   "execution_count": 38,
   "metadata": {
    "collapsed": true
   },
   "outputs": [],
   "source": [
    "# .view_zen() lets us set the view in spherical coordinates\n",
    "for az in range (0, 180, 40):\n",
    "    for zen in range(5, 85, 10):\n",
    "        cam.view_sph(zen=zen, az=az)"
   ]
  }
 ],
 "metadata": {
  "anaconda-cloud": {},
  "kernelspec": {
   "display_name": "Python 3",
   "language": "python",
   "name": "python3"
  },
  "language_info": {
   "codemirror_mode": {
    "name": "ipython",
    "version": 3
   },
   "file_extension": ".py",
   "mimetype": "text/x-python",
   "name": "python",
   "nbconvert_exporter": "python",
   "pygments_lexer": "ipython3",
   "version": "3.6.2"
  }
 },
 "nbformat": 4,
 "nbformat_minor": 1
}
